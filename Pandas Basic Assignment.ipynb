{
 "cells": [
  {
   "cell_type": "markdown",
   "id": "6725f4b3",
   "metadata": {},
   "source": [
    "# Q1. Create a Pandas Series that contains the following data: 4, 8, 15, 16, 23, and 42. Then, print the series."
   ]
  },
  {
   "cell_type": "code",
   "execution_count": 1,
   "id": "be9f0e0e",
   "metadata": {},
   "outputs": [
    {
     "name": "stdout",
     "output_type": "stream",
     "text": [
      "0     4\n",
      "1     8\n",
      "2    15\n",
      "3    16\n",
      "4    23\n",
      "5    42\n",
      "dtype: int64\n"
     ]
    }
   ],
   "source": [
    "import pandas as pd\n",
    "\n",
    "data = [4, 8, 15, 16, 23, 42]\n",
    "series = pd.Series(data)\n",
    "print(series)"
   ]
  },
  {
   "cell_type": "markdown",
   "id": "9ed745a3",
   "metadata": {},
   "source": [
    "# Q2. Create a variable of list type containing 10 elements in it, and apply pandas.Series function on the variable print it."
   ]
  },
  {
   "cell_type": "code",
   "execution_count": 2,
   "id": "6f1484a6",
   "metadata": {},
   "outputs": [
    {
     "name": "stdout",
     "output_type": "stream",
     "text": [
      "0     1\n",
      "1     2\n",
      "2     3\n",
      "3     4\n",
      "4     5\n",
      "5     6\n",
      "6     7\n",
      "7     8\n",
      "8     9\n",
      "9    10\n",
      "dtype: int64\n"
     ]
    }
   ],
   "source": [
    "import pandas as pd\n",
    "\n",
    "my_list = [1, 2, 3, 4, 5, 6, 7, 8, 9, 10]\n",
    "my_series = pd.Series(my_list)\n",
    "print(my_series)"
   ]
  },
  {
   "cell_type": "markdown",
   "id": "5a14f4ec",
   "metadata": {},
   "source": [
    "# Q3. Create a Pandas DataFrame that contains the following data:\n",
    "__Name :__ {'Alis', 'Bob', 'Claire'}<br>\n",
    "__Age :__ {25,30,27}<br>\n",
    "__Gender :__ {'Female', 'Male', 'Female'}<br>\n",
    "\n",
    "# Then, print the DataFrame."
   ]
  },
  {
   "cell_type": "code",
   "execution_count": 3,
   "id": "18fa5417",
   "metadata": {},
   "outputs": [
    {
     "name": "stdout",
     "output_type": "stream",
     "text": [
      "     Name  Age  Gender\n",
      "0    Alis   25  Female\n",
      "1     Bob   30    Male\n",
      "2  Claire   27  Female\n"
     ]
    }
   ],
   "source": [
    "import pandas as pd\n",
    "\n",
    "data = {'Name': ['Alis', 'Bob', 'Claire'],\n",
    "        'Age': [25, 30, 27],\n",
    "        'Gender': ['Female', 'Male', 'Female']}\n",
    "\n",
    "df = pd.DataFrame(data)\n",
    "print(df)"
   ]
  },
  {
   "cell_type": "markdown",
   "id": "93308768",
   "metadata": {},
   "source": [
    "# Q4. What is ‘DataFrame’ in pandas and how is it different from pandas.series? Explain with an example."
   ]
  },
  {
   "cell_type": "markdown",
   "id": "31853b65",
   "metadata": {},
   "source": [
    "__Ans. :__<br>\n",
    "\n",
    "In Pandas, a DataFrame is a 2-dimensional labeled data structure with columns of potentially different data types, similar to a table in a relational database. Each column in a DataFrame is represented as a Series, which is a 1-dimensional labeled array that can contain any data type.\n",
    "\n",
    "The main difference between a DataFrame and a Series is that a Series represents a single column of data, while a DataFrame represents a tabular structure with multiple columns and potentially multiple rows of data.\n",
    "\n",
    "Here's an example to illustrate the difference between a Series and a DataFrame:"
   ]
  },
  {
   "cell_type": "code",
   "execution_count": 4,
   "id": "a03039ff",
   "metadata": {},
   "outputs": [
    {
     "name": "stdout",
     "output_type": "stream",
     "text": [
      "0     apple\n",
      "1    banana\n",
      "2    orange\n",
      "dtype: object\n",
      "   fruits  quantity  price\n",
      "0   apple         3    0.5\n",
      "1  banana         5    0.4\n",
      "2  orange         2    0.3\n"
     ]
    }
   ],
   "source": [
    "import pandas as pd\n",
    "\n",
    "# create a Series object\n",
    "fruits = pd.Series(['apple', 'banana', 'orange'])\n",
    "\n",
    "# create a DataFrame object\n",
    "data = {'fruits': ['apple', 'banana', 'orange'],\n",
    "        'quantity': [3, 5, 2],\n",
    "        'price': [0.5, 0.4, 0.3]}\n",
    "df = pd.DataFrame(data)\n",
    "\n",
    "# print the Series and DataFrame\n",
    "print(fruits)\n",
    "print(df)"
   ]
  },
  {
   "cell_type": "markdown",
   "id": "8d741bd6",
   "metadata": {},
   "source": [
    "So, in summary, while a Series represents a single column of data with labeled indices, a DataFrame is a tabular data structure with potentially multiple columns and rows of data, where each column is represented as a Series and each row is labeled with an index number."
   ]
  },
  {
   "cell_type": "markdown",
   "id": "fe8e67cb",
   "metadata": {},
   "source": [
    "# Q5. What are some common functions you can use to manipulate data in a Pandas DataFrame? Can you give an example of when you might use one of these functions?"
   ]
  },
  {
   "cell_type": "markdown",
   "id": "8bde328c",
   "metadata": {},
   "source": [
    "__Ans. :__<br>\n",
    "\n",
    "Pandas provides a wide range of functions to manipulate data in a DataFrame. Here are some of the most commonly used functions:\n",
    "\n",
    "1. __head()__ and __tail()__: These functions are used to display the top or bottom few rows of the DataFrame. For example, __df.head()__ will display the first 5 rows of the DataFrame __df__, while __df.tail()__ will display the last 5 rows.\n",
    "\n",
    "2. __describe()__: This function is used to generate various summary statistics of the DataFrame, such as count, mean, standard deviation, minimum, maximum, and quartiles. For example, __df.describe()__ will provide a summary of the statistical properties of the DataFrame df.\n",
    "\n",
    "3. __info()__: This function is used to display information about the DataFrame, such as the number of rows, number of columns, data types, and memory usage. For example, df.info() will display information about the DataFrame df.\n",
    "\n",
    "4. __drop()__: This function is used to drop a specific column or row from the DataFrame. For example, __df.drop('column_name', axis=1)__ will drop the column with the specified name from the DataFrame df.\n",
    "\n",
    "5. __groupby()__: This function is used to group data in the DataFrame by one or more columns and perform some aggregation or transformation on the grouped data. For example, __df.groupby('column_name').mean()__ will group the data in the DataFrame df by the specified column and calculate the mean value for each group.\n",
    "\n",
    "6. __sort_values()__: This function is used to sort the rows of the DataFrame by one or more columns in ascending or descending order. For example, __df.sort_values('column_name', ascending=False)__ will sort the rows of the DataFrame df by the specified column in descending order."
   ]
  },
  {
   "cell_type": "markdown",
   "id": "fe6f3e2f",
   "metadata": {},
   "source": [
    "# Q6. Which of the following is mutable in nature Series, DataFrame, Panel?"
   ]
  },
  {
   "cell_type": "markdown",
   "id": "68989c2f",
   "metadata": {},
   "source": [
    "__Ans. :__<br>\n",
    "\n",
    "__Panel__ and __DataFrame__ are mutable in nature, while __Series__ Objects are value-mutable but size-immutable objects.."
   ]
  },
  {
   "cell_type": "markdown",
   "id": "9e726406",
   "metadata": {},
   "source": [
    "# Q7. Create a DataFrame using multiple Series. Explain with an example."
   ]
  },
  {
   "cell_type": "code",
   "execution_count": 5,
   "id": "182c9054",
   "metadata": {},
   "outputs": [
    {
     "name": "stdout",
     "output_type": "stream",
     "text": [
      "     Name  Age  Gender\n",
      "0   Alice   25  Female\n",
      "1     Bob   30    Male\n",
      "2  Claire   27  Female\n"
     ]
    }
   ],
   "source": [
    "import pandas as pd\n",
    "\n",
    "# create three Series objects\n",
    "names = pd.Series(['Alice', 'Bob', 'Claire'])\n",
    "ages = pd.Series([25, 30, 27])\n",
    "genders = pd.Series(['Female', 'Male', 'Female'])\n",
    "\n",
    "# create a DataFrame using the three Series\n",
    "data = {'Name': names, 'Age': ages, 'Gender': genders}\n",
    "df = pd.DataFrame(data)\n",
    "\n",
    "# print the DataFrame\n",
    "print(df)"
   ]
  },
  {
   "cell_type": "code",
   "execution_count": null,
   "id": "9772edab",
   "metadata": {},
   "outputs": [],
   "source": []
  }
 ],
 "metadata": {
  "kernelspec": {
   "display_name": "Python 3 (ipykernel)",
   "language": "python",
   "name": "python3"
  },
  "language_info": {
   "codemirror_mode": {
    "name": "ipython",
    "version": 3
   },
   "file_extension": ".py",
   "mimetype": "text/x-python",
   "name": "python",
   "nbconvert_exporter": "python",
   "pygments_lexer": "ipython3",
   "version": "3.9.7"
  }
 },
 "nbformat": 4,
 "nbformat_minor": 5
}
